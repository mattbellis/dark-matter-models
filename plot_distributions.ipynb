{
 "cells": [
  {
   "cell_type": "code",
   "execution_count": null,
   "metadata": {},
   "outputs": [],
   "source": [
    "import matplotlib.pylab as plt\n",
    "\n",
    "%matplotlib inline\n",
    "import numpy as np\n",
    "\n",
    "\n",
    "import dm_models as dm\n",
    "\n",
    "from time import time"
   ]
  },
  {
   "cell_type": "code",
   "execution_count": null,
   "metadata": {},
   "outputs": [],
   "source": [
    "target_atom = dm.AGe\n",
    "target_mass = 1.0\n",
    "\n",
    "massDM = 10.0 # GeV\n",
    "sigma_n = 7e-42\n",
    "elo = 0.5\n",
    "ehi = 3.2\n",
    "\n",
    "max_days = 365*5\n",
    "\n",
    "\n",
    "efficiency = lambda x: 1.0\n",
    "\n",
    "model = 'shm'\n",
    "\n",
    "energy = np.linspace(0.5,4,1000)\n",
    "days = np.linspace(1,max_days,1000)\n",
    "\n",
    "start = time()\n",
    "yenergy = dm.plot_wimp_energy(energy,target_atom=dm.AGe,massDM=massDM,sigma_n=sigma_n,time_range=[1,max_days],model=model)\n",
    "print(\"Time for plotting energy distribution: %f ms\" % (time()-start))\n",
    "\n",
    "start = time()\n",
    "ytime = dm.plot_wimp_day(days,target_atom=dm.AGe,massDM=massDM,sigma_n=sigma_n,e_range=[elo,ehi],model=model)\n",
    "print(\"Time for plotting time distribution: %f ms\" % (time()-start))"
   ]
  },
  {
   "cell_type": "code",
   "execution_count": null,
   "metadata": {},
   "outputs": [],
   "source": [
    "plt.figure(figsize=(15,4))\n",
    "plt.subplot(1,2,1)\n",
    "plt.plot(energy,yenergy)\n",
    "plt.xlabel('Energy',fontsize=24)\n",
    "\n",
    "plt.subplot(1,2,2)\n",
    "plt.plot(energy,ytime)\n",
    "plt.ylim(0,1.3*max(ytime))\n",
    "plt.xlabel('Days',fontsize=24)"
   ]
  },
  {
   "cell_type": "code",
   "execution_count": null,
   "metadata": {},
   "outputs": [],
   "source": []
  }
 ],
 "metadata": {
  "kernelspec": {
   "display_name": "Python 3",
   "language": "python",
   "name": "python3"
  },
  "language_info": {
   "codemirror_mode": {
    "name": "ipython",
    "version": 3
   },
   "file_extension": ".py",
   "mimetype": "text/x-python",
   "name": "python",
   "nbconvert_exporter": "python",
   "pygments_lexer": "ipython3",
   "version": "3.6.5"
  }
 },
 "nbformat": 4,
 "nbformat_minor": 1
}
