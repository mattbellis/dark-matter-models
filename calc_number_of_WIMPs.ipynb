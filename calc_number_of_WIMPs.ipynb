{
 "metadata": {
  "name": "",
  "signature": "sha256:5e4ce054515a7f5f352924a4ef59e8650e243c919de104aede51dead1db6071f"
 },
 "nbformat": 3,
 "nbformat_minor": 0,
 "worksheets": [
  {
   "cells": [
    {
     "cell_type": "code",
     "collapsed": false,
     "input": [
      "import matplotlib.pylab as plt\n",
      "import numpy as np\n",
      "\n",
      "import dm_models as dm"
     ],
     "language": "python",
     "metadata": {},
     "outputs": [],
     "prompt_number": 1
    },
    {
     "cell_type": "code",
     "collapsed": false,
     "input": [
      "target_atom = dm.AGe\n",
      "target_mass = 1.0\n",
      "\n",
      "massDM = 10.0 # GeV\n",
      "sigma_n = 7e-42\n",
      "elo = 0.5\n",
      "ehi = 3.2\n",
      "\n",
      "max_days = 365\n",
      "\n",
      "\n",
      "efficiency = lambda x: 1.0\n",
      "\n",
      "model = 'shm'\n",
      "\n",
      "num_wimps = dm.expected_number_of_WIMPs(wimp_model=model,\n",
      "                                        loE=elo,hiE=ehi,\n",
      "                                        loDay=1,hiDay=max_days,\n",
      "                                        target_atom=target_atom,\n",
      "                                        target_mass=target_mass,\n",
      "                                        massDM=massDM,\n",
      "                                        sigma_n=sigma_n,\n",
      "                                        efficiency=efficiency)\n",
      "\n",
      "print \"# expected WIMPs: %f\" % (num_wimps)"
     ],
     "language": "python",
     "metadata": {},
     "outputs": [
      {
       "output_type": "stream",
       "stream": "stdout",
       "text": [
        "# expected WIMPs: 341.339783\n"
       ]
      }
     ],
     "prompt_number": 2
    },
    {
     "cell_type": "code",
     "collapsed": false,
     "input": [],
     "language": "python",
     "metadata": {},
     "outputs": []
    }
   ],
   "metadata": {}
  }
 ]
}