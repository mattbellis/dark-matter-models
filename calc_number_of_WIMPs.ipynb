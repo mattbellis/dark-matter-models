{
 "cells": [
  {
   "cell_type": "code",
   "execution_count": 1,
   "metadata": {},
   "outputs": [],
   "source": [
    "import matplotlib.pylab as plt\n",
    "import numpy as np\n",
    "\n",
    "import dm_models as dm\n",
    "\n",
    "from time import time"
   ]
  },
  {
   "cell_type": "code",
   "execution_count": 2,
   "metadata": {},
   "outputs": [
    {
     "name": "stdout",
     "output_type": "stream",
     "text": [
      "# expected WIMPs: 341.339780\n",
      "time to run: 0.242491 ms\n"
     ]
    }
   ],
   "source": [
    "target_atom = dm.AGe\n",
    "target_mass = 1.0 # Mass of target in kg\n",
    "\n",
    "massDM = 10.0   # GeV\n",
    "sigma_n = 7e-42 # WIMP-nucleon cross section cm^2\n",
    "elo = 0.5       # keVee\n",
    "ehi = 3.2       # keVee \n",
    "\n",
    "max_days = 365 # Number of days that you collect data\n",
    "\n",
    "efficiency = lambda x: 1.0\n",
    "\n",
    "model = 'shm' # Velocity distribution model: \n",
    "              # \"shm\": Simple Halo Model. Maxwell-Boltzman distribution\n",
    "              # \"stream\": Dark matter stream. Sagittarius stream parameters by default.\n",
    "\n",
    "start = time()\n",
    "num_wimps = dm.expected_number_of_WIMPs(wimp_model=model,\n",
    "                                        loE=elo,hiE=ehi,\n",
    "                                        loDay=1,hiDay=max_days,\n",
    "                                        target_atom=target_atom,\n",
    "                                        target_mass=target_mass,\n",
    "                                        massDM=massDM,\n",
    "                                        sigma_n=sigma_n,\n",
    "                                        efficiency=efficiency)\n",
    "stop = time()\n",
    "\n",
    "print \"# expected WIMPs: %f\" % (num_wimps)\n",
    "\n",
    "print \"time to run: %f ms\" % (stop-start)"
   ]
  },
  {
   "cell_type": "code",
   "execution_count": null,
   "metadata": {
    "collapsed": true
   },
   "outputs": [],
   "source": []
  }
 ],
 "metadata": {
  "anaconda-cloud": {},
  "kernelspec": {
   "display_name": "Python 3",
   "language": "python",
   "name": "python3"
  },
  "language_info": {
   "codemirror_mode": {
    "name": "ipython",
    "version": 3
   },
   "file_extension": ".py",
   "mimetype": "text/x-python",
   "name": "python",
   "nbconvert_exporter": "python",
   "pygments_lexer": "ipython3",
   "version": "3.6.5"
  }
 },
 "nbformat": 4,
 "nbformat_minor": 1
}
