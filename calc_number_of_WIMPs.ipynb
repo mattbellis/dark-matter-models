{
 "metadata": {
  "name": "",
  "signature": "sha256:5e4ce054515a7f5f352924a4ef59e8650e243c919de104aede51dead1db6071f"
 },
 "nbformat": 3,
 "nbformat_minor": 0,
 "worksheets": [
  {
   "cells": [
    {
     "cell_type": "code",
     "collapsed": false,
     "input": [
      "import matplotlib.pylab as plt\n",
      "import numpy as np\n",
      "\n",
      "import dm_models as dm"
     ],
     "language": "python",
     "metadata": {},
     "outputs": [
      {
       "ename": "NameError",
       "evalue": "name 'sigma_n' is not defined",
       "output_type": "pyerr",
       "traceback": [
        "\u001b[0;31m---------------------------------------------------------------------------\u001b[0m\n\u001b[0;31mNameError\u001b[0m                                 Traceback (most recent call last)",
        "\u001b[0;32m<ipython-input-1-323c34772f74>\u001b[0m in \u001b[0;36m<module>\u001b[0;34m()\u001b[0m\n\u001b[1;32m      2\u001b[0m \u001b[0;32mimport\u001b[0m \u001b[0mnumpy\u001b[0m \u001b[0;32mas\u001b[0m \u001b[0mnp\u001b[0m\u001b[0;34m\u001b[0m\u001b[0m\n\u001b[1;32m      3\u001b[0m \u001b[0;34m\u001b[0m\u001b[0m\n\u001b[0;32m----> 4\u001b[0;31m \u001b[0;32mimport\u001b[0m \u001b[0mdm_models\u001b[0m \u001b[0;32mas\u001b[0m \u001b[0mdm\u001b[0m\u001b[0;34m\u001b[0m\u001b[0m\n\u001b[0m",
        "\u001b[0;32m/home/bellis/dark-matter-models/dm_models.py\u001b[0m in \u001b[0;36m<module>\u001b[0;34m()\u001b[0m\n\u001b[1;32m    541\u001b[0m \u001b[0;31m# Plot WIMP signal\u001b[0m\u001b[0;34m\u001b[0m\u001b[0;34m\u001b[0m\u001b[0m\n\u001b[1;32m    542\u001b[0m \u001b[0;31m################################################################################\u001b[0m\u001b[0;34m\u001b[0m\u001b[0;34m\u001b[0m\u001b[0m\n\u001b[0;32m--> 543\u001b[0;31m \u001b[0;32mdef\u001b[0m \u001b[0mplot_wimp_energy\u001b[0m\u001b[0;34m(\u001b[0m\u001b[0mx\u001b[0m\u001b[0;34m,\u001b[0m\u001b[0mtarget_atom\u001b[0m\u001b[0;34m=\u001b[0m\u001b[0mAGe\u001b[0m\u001b[0;34m,\u001b[0m\u001b[0mmassDM\u001b[0m\u001b[0;34m=\u001b[0m\u001b[0mmDM\u001b[0m\u001b[0;34m,\u001b[0m\u001b[0msigma_n\u001b[0m\u001b[0;34m=\u001b[0m\u001b[0msigma_n\u001b[0m\u001b[0;34m,\u001b[0m\u001b[0mtime_range\u001b[0m\u001b[0;34m=\u001b[0m\u001b[0;34m[\u001b[0m\u001b[0;36m1\u001b[0m\u001b[0;34m,\u001b[0m\u001b[0;36m365\u001b[0m\u001b[0;34m]\u001b[0m\u001b[0;34m,\u001b[0m\u001b[0mmodel\u001b[0m\u001b[0;34m=\u001b[0m\u001b[0;34m'shm'\u001b[0m\u001b[0;34m)\u001b[0m\u001b[0;34m:\u001b[0m\u001b[0;34m\u001b[0m\u001b[0m\n\u001b[0m\u001b[1;32m    544\u001b[0m \u001b[0;34m\u001b[0m\u001b[0m\n\u001b[1;32m    545\u001b[0m     \u001b[0;32mif\u001b[0m \u001b[0;32mnot\u001b[0m \u001b[0;34m(\u001b[0m\u001b[0mmodel\u001b[0m\u001b[0;34m==\u001b[0m\u001b[0;34m'shm'\u001b[0m \u001b[0;32mor\u001b[0m \u001b[0mmodel\u001b[0m\u001b[0;34m==\u001b[0m\u001b[0;34m'stream'\u001b[0m \u001b[0;32mor\u001b[0m \u001b[0mmodel\u001b[0m\u001b[0;34m==\u001b[0m\u001b[0;34m'debris'\u001b[0m\u001b[0;34m)\u001b[0m\u001b[0;34m:\u001b[0m\u001b[0;34m\u001b[0m\u001b[0m\n",
        "\u001b[0;31mNameError\u001b[0m: name 'sigma_n' is not defined"
       ]
      }
     ],
     "prompt_number": 1
    },
    {
     "cell_type": "code",
     "collapsed": false,
     "input": [
      "target_atom = dm.AGe\n",
      "target_mass = 1.0\n",
      "\n",
      "massDM = 10.0 # GeV\n",
      "sigma_n = 7e-42\n",
      "elo = 0.5\n",
      "ehi = 3.2\n",
      "\n",
      "max_days = 365\n",
      "\n",
      "\n",
      "efficiency = lambda x: 1.0\n",
      "\n",
      "model = 'shm'\n",
      "\n",
      "num_wimps = dm.expected_number_of_WIMPs(wimp_model=model,\n",
      "                                        loE=elo,hiE=ehi,\n",
      "                                        loDay=1,hiDay=max_days,\n",
      "                                        target_atom=target_atom,\n",
      "                                        target_mass=target_mass,\n",
      "                                        massDM=massDM,\n",
      "                                        sigma_n=sigma_n,\n",
      "                                        efficiency=efficiency)\n",
      "\n",
      "print \"# expected WIMPs: %f\" % (num_wimps)"
     ],
     "language": "python",
     "metadata": {},
     "outputs": [
      {
       "output_type": "stream",
       "stream": "stdout",
       "text": [
        "# expected WIMPs: 341.339783\n"
       ]
      }
     ],
     "prompt_number": 2
    },
    {
     "cell_type": "code",
     "collapsed": false,
     "input": [],
     "language": "python",
     "metadata": {},
     "outputs": []
    }
   ],
   "metadata": {}
  }
 ]
}
